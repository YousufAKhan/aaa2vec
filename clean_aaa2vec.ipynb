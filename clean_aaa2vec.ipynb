{
 "cells": [
  {
   "cell_type": "code",
   "execution_count": 10,
   "metadata": {},
   "outputs": [],
   "source": [
    "#encoding. word encoding\n",
    "import codecs\n",
    "#finds all pathnames matching a pattern, like regex\n",
    "import glob\n",
    "#log events for libraries\n",
    "import logging\n",
    "#concurrency\n",
    "import multiprocessing\n",
    "#dealing with operating system , like reading file\n",
    "import os\n",
    "#pretty print, human readable\n",
    "import pprint\n",
    "#regular expressions\n",
    "import re\n",
    "#natural language toolkit\n",
    "import nltk\n",
    "#word 2 vec\n",
    "import gensim.models.word2vec as w2v\n",
    "#dimensionality reduction\n",
    "import sklearn.manifold\n",
    "#math\n",
    "import numpy as np\n",
    "#plotting\n",
    "import matplotlib.pyplot as plt\n",
    "#parse dataset\n",
    "import pandas as pd\n",
    "#visualization\n",
    "import seaborn as sns\n",
    "#Clear cell output from IPython\n",
    "from IPython.display import clear_output\n",
    "#make copies of data structures\n",
    "from copy import deepcopy\n",
    "#Logistic regression learning model\n",
    "from sklearn.linear_model import LogisticRegression\n",
    "import sklearn.metrics as metrics\n",
    "#Get ordered dictionaries\n",
    "import collections\n",
    "#Show the results of our logistic regression\n",
    "#import statsmodels.api as sm"
   ]
  },
  {
   "cell_type": "code",
   "execution_count": 11,
   "metadata": {},
   "outputs": [],
   "source": [
    "#filepaths and default settings. Change values here\n",
    "positive_set = './AAA_InterPro_reviewed.fasta'\n",
    "generic_proteins = './uniprot_sprot.fasta'\n",
    "aaa2vec_NN = \"aaa2vec_1745pos_1745neg_contextsize7.w2v\"\n",
    "\n",
    "#Choose the number of examples you would like to use for the training positive, training negative,\n",
    "#testing positive, and testing negative examples\n",
    "#70/30 split between training set and test set\n",
    "numPos = 1745\n",
    "numNeg = 1745\n",
    "numTestPos = 700\n",
    "numTestNeg = 700\n",
    "\n",
    "#Build our word2vec model\n",
    "#define hyperparameters\n",
    "#Dimensionality of the resulting word vectors.\n",
    "#more dimensions mean more traiig them, but more generalized\n",
    "num_features = 300\n",
    "# Minimum word count threshold.\n",
    "min_word_count = 1\n",
    "\n",
    "# Number of threads to run in parallel.\n",
    "num_workers = multiprocessing.cpu_count()\n",
    "\n",
    "# Context window length.\n",
    "context_size = 7\n",
    "\n",
    "# Downsample setting for frequent words.\n",
    "#rate 0 and 1e-5 \n",
    "#how often to use\n",
    "downsampling = 1e-3"
   ]
  },
  {
   "cell_type": "code",
   "execution_count": 12,
   "metadata": {},
   "outputs": [],
   "source": [
    "#Pass the path of a fasta file to process file and get an orderedDict back\n",
    "def fastaToDict(filepath):\n",
    "    proteinDict = collections.OrderedDict()\n",
    "    with open(filepath, 'r') as f:\n",
    "        currentKey = \"n/a\"\n",
    "        currentSeq = \"\"\n",
    "        i = 0\n",
    "        for line in f:\n",
    "            #This portion of the code is responsible for printing the values\n",
    "            if (i % 10000 == 0):\n",
    "                clear_output(wait=True)    \n",
    "                print (\"Processing hit %i\"%(i))\n",
    "            #If we're at the beginning of the FASTA file\n",
    "            if currentKey == \"n/a\" and line[0] == \">\":\n",
    "                currentKey = line[1:].rstrip()\n",
    "\n",
    "            #When we've finishing scanning our current training example  \n",
    "            elif line[0] == \">\":\n",
    "                proteinDict[currentKey] = currentSeq\n",
    "                currentKey = line[1:].strip()\n",
    "                currentSeq = \"\"\n",
    "                i += 1\n",
    "            else:\n",
    "                currentSeq = currentSeq + line.rstrip()\n",
    "\n",
    "    #The last entry\n",
    "    proteinDict[currentKey] = currentSeq\n",
    "    \n",
    "    #return the dict\n",
    "    print('Processed a total of %i sequences'%(i))\n",
    "    return proteinDict"
   ]
  },
  {
   "cell_type": "code",
   "execution_count": 13,
   "metadata": {},
   "outputs": [],
   "source": [
    "#Input: Ordered Dictionary of protein sequences, output: tokenized words of protein sequences\n",
    "def tokenizeProteins(proteinDict):\n",
    "    tokensMapping = {}\n",
    "    proteinName = ''\n",
    "    \n",
    "    for protein in proteinDict.keys():\n",
    "        proteinName = protein\n",
    "        sentence_raw = deepcopy(proteinDict[proteinName]) \n",
    "        sentence_length = len(sentence_raw)\n",
    "        \n",
    "        for j in range(3):\n",
    "            sentence_tokenized = []\n",
    "            temp_string = sentence_raw[j:]\n",
    "            n = len(temp_string)//3\n",
    "            unit = []\n",
    "            for i in range(n):\n",
    "                unit = sentence_raw[(i*3)+j:(((i+1)*3)+j)]\n",
    "                sentence_tokenized.append(unit)\n",
    "            tokensMapping[proteinName+str(j)]=sentence_tokenized\n",
    "    \n",
    "    proteinTokens = []\n",
    "    for key in tokensMapping:\n",
    "        proteinTokens.append(tokensMapping[key])\n",
    "    return proteinTokens"
   ]
  },
  {
   "cell_type": "code",
   "execution_count": 14,
   "metadata": {},
   "outputs": [],
   "source": [
    "def generateTraining(positiveDict, numPos, negativeDict, numNeg):\n",
    "    combinedDict = collections.OrderedDict()\n",
    "    Y = []\n",
    "    i = 0\n",
    "    for item in positiveDict:\n",
    "        if (i == numPos):\n",
    "            break\n",
    "        Y.append(1)\n",
    "        combinedDict[item] = positiveDict[item]\n",
    "        i += 1\n",
    "    j = 0\n",
    "    for item in negativeDict:\n",
    "        if (j == numNeg):\n",
    "            break\n",
    "        Y.append(0)\n",
    "        combinedDict[item] = negativeDict[item]\n",
    "        j+=1\n",
    "    return combinedDict,Y"
   ]
  },
  {
   "cell_type": "code",
   "execution_count": 15,
   "metadata": {},
   "outputs": [],
   "source": [
    "def generateTest(positiveDict, numPos, numTestPos, negativeDict, numNeg, numTestNeg):\n",
    "    combinedTestDict = collections.OrderedDict()\n",
    "    Y = []\n",
    "    i = 0\n",
    "    for item in positiveDict:\n",
    "        if (i == numPos + numTestPos):\n",
    "            break\n",
    "        if (i < numPos):\n",
    "            i +=1\n",
    "            continue\n",
    "        else:\n",
    "            Y.append(1)\n",
    "            combinedTestDict[item] = positiveDict[item]\n",
    "        i += 1\n",
    "    j = 0\n",
    "    for item in negativeDict:\n",
    "        if (j == numNeg + numTestNeg):\n",
    "            break\n",
    "        if (j < numNeg):\n",
    "            j+=1\n",
    "            continue\n",
    "        else:\n",
    "            Y.append(0)\n",
    "            combinedTestDict[item] = negativeDict[item]\n",
    "        j+=1\n",
    "    return combinedTestDict,Y"
   ]
  },
  {
   "cell_type": "code",
   "execution_count": 16,
   "metadata": {},
   "outputs": [],
   "source": [
    "def generateX(proteinTokens, vec):\n",
    "    #We have tokens of our \"positive\"\n",
    "    i = 0\n",
    "    X = []\n",
    "    while (i < len(proteinTokens)-1):\n",
    "      frame1 = proteinTokens[i]\n",
    "      frame2 = proteinTokens[i+1]\n",
    "      frame3 = proteinTokens[i+2]\n",
    "      total = frame1+frame2+frame3\n",
    "      index = i//3\n",
    "      currentSum = np.zeros((300,))\n",
    "      num_words = 1  \n",
    "      for word in total:\n",
    "        if word in vec:\n",
    "            num_words +=1    \n",
    "            currentSum = np.add(currentSum,vec[word])\n",
    "      X.append(np.divide(currentSum,num_words))\n",
    "      i += 3\n",
    "    return X"
   ]
  },
  {
   "cell_type": "code",
   "execution_count": 17,
   "metadata": {},
   "outputs": [],
   "source": [
    "def perf_measure(y_actual, y_pred):\n",
    "    TP = 0\n",
    "    FP = 0\n",
    "    TN = 0\n",
    "    FN = 0\n",
    "\n",
    "    for i in range(len(y_pred)): \n",
    "        if y_actual[i]==y_pred[i]==1:\n",
    "           TP += 1\n",
    "        if y_pred[i]==1 and y_actual[i]!=y_pred[i]:\n",
    "           FP += 1\n",
    "        if y_actual[i]==y_pred[i]==0:\n",
    "           TN += 1\n",
    "        if y_pred[i]==0 and y_actual[i]!=y_pred[i]:\n",
    "           FN += 1\n",
    "\n",
    "    return(TP, FP, TN, FN)"
   ]
  },
  {
   "cell_type": "code",
   "execution_count": 18,
   "metadata": {},
   "outputs": [
    {
     "name": "stdout",
     "output_type": "stream",
     "text": [
      "Processing hit 0\n",
      "Processed a total of 2494 sequences\n"
     ]
    }
   ],
   "source": [
    "positiveDict = fastaToDict(positive_set)"
   ]
  },
  {
   "cell_type": "code",
   "execution_count": 19,
   "metadata": {},
   "outputs": [
    {
     "name": "stdout",
     "output_type": "stream",
     "text": [
      "Processing hit 560000\n",
      "Processed a total of 563551 sequences\n"
     ]
    }
   ],
   "source": [
    "negativeDict = fastaToDict(generic_proteins)"
   ]
  },
  {
   "cell_type": "code",
   "execution_count": 20,
   "metadata": {},
   "outputs": [],
   "source": [
    "trainingSet,Ytrain = generateTraining(positiveDict, numPos, negativeDict, numNeg)"
   ]
  },
  {
   "cell_type": "code",
   "execution_count": 21,
   "metadata": {},
   "outputs": [],
   "source": [
    "testSet,Ytest = generateTest(positiveDict, numPos, numTestPos, negativeDict, numNeg, numTestNeg)"
   ]
  },
  {
   "cell_type": "code",
   "execution_count": 22,
   "metadata": {},
   "outputs": [],
   "source": [
    "testTokens = tokenizeProteins(testSet)\n",
    "trainingTokens = tokenizeProteins(trainingSet)"
   ]
  },
  {
   "cell_type": "code",
   "execution_count": 14,
   "metadata": {},
   "outputs": [],
   "source": [
    "aaa2vec = w2v.Word2Vec(\n",
    "    sg=1,\n",
    "    seed=1,\n",
    "    workers=num_workers,\n",
    "    size=num_features,\n",
    "    min_count=min_word_count,\n",
    "    window=context_size,\n",
    "    sample=downsampling\n",
    ")"
   ]
  },
  {
   "cell_type": "code",
   "execution_count": 15,
   "metadata": {},
   "outputs": [],
   "source": [
    "aaa2vec.build_vocab(trainingTokens)"
   ]
  },
  {
   "cell_type": "code",
   "execution_count": 16,
   "metadata": {},
   "outputs": [
    {
     "data": {
      "text/plain": [
       "(145778900, 145778900)"
      ]
     },
     "execution_count": 16,
     "metadata": {},
     "output_type": "execute_result"
    }
   ],
   "source": [
    "aaa2vec.train(trainingTokens, total_examples=aaa2vec.corpus_count, epochs=100)"
   ]
  },
  {
   "cell_type": "code",
   "execution_count": 17,
   "metadata": {},
   "outputs": [],
   "source": [
    "#save model\n",
    "if not os.path.exists(\"trained\"):\n",
    "    os.makedirs(\"trained\")\n",
    "aaa2vec.save(os.path.join(\"trained\", aaa2vec_NN))"
   ]
  },
  {
   "cell_type": "code",
   "execution_count": 23,
   "metadata": {},
   "outputs": [],
   "source": [
    "#load model\n",
    "aaa2vec = w2v.Word2Vec.load(os.path.join(\"trained\", aaa2vec_NN))"
   ]
  },
  {
   "cell_type": "code",
   "execution_count": 24,
   "metadata": {},
   "outputs": [
    {
     "name": "stderr",
     "output_type": "stream",
     "text": [
      "<ipython-input-16-a30099c907a6>:14: DeprecationWarning: Call to deprecated `__contains__` (Method will be removed in 4.0.0, use self.wv.__contains__() instead).\n",
      "  if word in vec:\n",
      "<ipython-input-16-a30099c907a6>:16: DeprecationWarning: Call to deprecated `__getitem__` (Method will be removed in 4.0.0, use self.wv.__getitem__() instead).\n",
      "  currentSum = np.add(currentSum,vec[word])\n"
     ]
    }
   ],
   "source": [
    "Xtrain = generateX(trainingTokens,aaa2vec)"
   ]
  },
  {
   "cell_type": "code",
   "execution_count": 25,
   "metadata": {},
   "outputs": [
    {
     "data": {
      "image/png": "[encoded data removed]",
      "text/plain": [
       "<Figure size 432x288 with 1 Axes>"
      ]
     },
     "metadata": {
      "needs_background": "light"
     },
     "output_type": "display_data"
    }
   ],
   "source": [
    "model = LogisticRegression()\n",
    "model.fit(Xtrain,Ytrain)\n",
    "#Ytrain_Pred=logistic_regression.predict(Xtrain)\n",
    "\n",
    "\n",
    "# calculate the fpr and tpr for all thresholds of the classification\n",
    "probs = model.predict_proba(Xtrain)\n",
    "preds = probs[:,1]\n",
    "fpr, tpr, threshold = metrics.roc_curve(Ytrain, preds)\n",
    "roc_auc = metrics.auc(fpr, tpr)\n",
    "\n",
    "# method I: plt\n",
    "import matplotlib.pyplot as plt\n",
    "plt.title('Receiver Operating Characteristic - Training Set')\n",
    "plt.plot(fpr, tpr, 'b', label = 'AUC = %0.2f' % roc_auc)\n",
    "plt.legend(loc = 'lower right')\n",
    "plt.plot([0, 1], [0, 1],'r--')\n",
    "plt.xlim([0, 1])\n",
    "plt.ylim([0, 1])\n",
    "plt.ylabel('True Positive Rate')\n",
    "plt.xlabel('False Positive Rate')\n",
    "plt.show()"
   ]
  },
  {
   "cell_type": "code",
   "execution_count": null,
   "metadata": {},
   "outputs": [],
   "source": []
  },
  {
   "cell_type": "code",
   "execution_count": 26,
   "metadata": {},
   "outputs": [
    {
     "name": "stderr",
     "output_type": "stream",
     "text": [
      "<ipython-input-16-a30099c907a6>:14: DeprecationWarning: Call to deprecated `__contains__` (Method will be removed in 4.0.0, use self.wv.__contains__() instead).\n",
      "  if word in vec:\n",
      "<ipython-input-16-a30099c907a6>:16: DeprecationWarning: Call to deprecated `__getitem__` (Method will be removed in 4.0.0, use self.wv.__getitem__() instead).\n",
      "  currentSum = np.add(currentSum,vec[word])\n"
     ]
    }
   ],
   "source": [
    "Xtest = generateX(testTokens,aaa2vec)"
   ]
  },
  {
   "cell_type": "code",
   "execution_count": 27,
   "metadata": {},
   "outputs": [
    {
     "data": {
      "image/png": "[encoded data removed]",
      "text/plain": [
       "<Figure size 432x288 with 1 Axes>"
      ]
     },
     "metadata": {
      "needs_background": "light"
     },
     "output_type": "display_data"
    }
   ],
   "source": [
    "# calculate the fpr and tpr for all thresholds of the classification\n",
    "probs = model.predict_proba(Xtest)\n",
    "preds = probs[:,1]\n",
    "fpr, tpr, threshold = metrics.roc_curve(Ytest, preds)\n",
    "roc_auc = metrics.auc(fpr, tpr)\n",
    "\n",
    "# method I: plt\n",
    "import matplotlib.pyplot as plt\n",
    "plt.title('Receiver Operating Characteristic - Test Set')\n",
    "plt.plot(fpr, tpr, 'b', label = 'AUC = %0.2f' % roc_auc)\n",
    "plt.legend(loc = 'lower right')\n",
    "plt.plot([0, 1], [0, 1],'r--')\n",
    "plt.xlim([0, 1])\n",
    "plt.ylim([0, 1])\n",
    "plt.ylabel('True Positive Rate')\n",
    "plt.xlabel('False Positive Rate')\n",
    "plt.show()"
   ]
  },
  {
   "cell_type": "code",
   "execution_count": null,
   "metadata": {},
   "outputs": [],
   "source": []
  },
  {
   "cell_type": "code",
   "execution_count": 47,
   "metadata": {},
   "outputs": [],
   "source": [
    "Y_trainpred = model.predict(Xtrain)\n",
    "Y_testpred = model.predict(Xtest)\n",
    "train_stats = perf_measure(Ytrain, Y_trainpred)\n",
    "test_stats = perf_measure(Ytest, Y_testpred)"
   ]
  },
  {
   "cell_type": "code",
   "execution_count": 48,
   "metadata": {},
   "outputs": [
    {
     "name": "stdout",
     "output_type": "stream",
     "text": [
      "The confusion matrix for the training set of data is the following in order --> TP,FP,TN,FN =\n",
      "(1680, 87, 1658, 65)\n"
     ]
    }
   ],
   "source": [
    "print(\"The confusion matrix for the training set of data is the following in order --> TP,FP,TN,FN =\")\n",
    "print(train_stats)"
   ]
  },
  {
   "cell_type": "code",
   "execution_count": 49,
   "metadata": {},
   "outputs": [
    {
     "name": "stdout",
     "output_type": "stream",
     "text": [
      "The confusion matrix for the test set of data is the following in order --> TP,FP,TN,FN =\n",
      "(645, 123, 577, 55)\n"
     ]
    }
   ],
   "source": [
    "print(\"The confusion matrix for the test set of data is the following in order --> TP,FP,TN,FN =\")\n",
    "print(test_stats)"
   ]
  },
  {
   "cell_type": "code",
   "execution_count": null,
   "metadata": {},
   "outputs": [],
   "source": []
  }
 ],
 "metadata": {
  "kernelspec": {
   "display_name": "word2vec",
   "language": "python",
   "name": "word2vec"
  },
  "language_info": {
   "codemirror_mode": {
    "name": "ipython",
    "version": 3
   },
   "file_extension": ".py",
   "mimetype": "text/x-python",
   "name": "python",
   "nbconvert_exporter": "python",
   "pygments_lexer": "ipython3",
   "version": "3.9.0"
  }
 },
 "nbformat": 4,
 "nbformat_minor": 4
}
